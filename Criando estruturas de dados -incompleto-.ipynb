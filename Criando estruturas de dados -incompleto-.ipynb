{
 "cells": [
  {
   "cell_type": "markdown",
   "id": "9248c2e3",
   "metadata": {},
   "source": [
    "## Series "
   ]
  },
  {
   "cell_type": "code",
   "execution_count": 1,
   "id": "a83edc3f",
   "metadata": {},
   "outputs": [],
   "source": [
    "import pandas as pd"
   ]
  },
  {
   "cell_type": "code",
   "execution_count": 3,
   "id": "a398c6a3",
   "metadata": {},
   "outputs": [],
   "source": [
    "dados = [1,2,3,4,5]"
   ]
  },
  {
   "cell_type": "code",
   "execution_count": 4,
   "id": "c7acdb7d",
   "metadata": {},
   "outputs": [],
   "source": [
    "s = pd.Series(dados)"
   ]
  },
  {
   "cell_type": "code",
   "execution_count": 16,
   "id": "18f71d3a",
   "metadata": {},
   "outputs": [],
   "source": [
    "lista = ['linha' + str(i) for i in range(1,6)]"
   ]
  },
  {
   "cell_type": "code",
   "execution_count": 17,
   "id": "a6a14920",
   "metadata": {},
   "outputs": [
    {
     "data": {
      "text/plain": [
       "['linha1', 'linha2', 'linha3', 'linha4', 'linha5']"
      ]
     },
     "execution_count": 17,
     "metadata": {},
     "output_type": "execute_result"
    }
   ],
   "source": [
    "lista"
   ]
  },
  {
   "cell_type": "code",
   "execution_count": 19,
   "id": "f6b5f92b",
   "metadata": {},
   "outputs": [],
   "source": [
    "s = pd.Series(data = dados, index = lista)"
   ]
  },
  {
   "cell_type": "code",
   "execution_count": 20,
   "id": "ab849d81",
   "metadata": {},
   "outputs": [
    {
     "data": {
      "text/plain": [
       "linha1    1\n",
       "linha2    2\n",
       "linha3    3\n",
       "linha4    4\n",
       "linha5    5\n",
       "dtype: int64"
      ]
     },
     "execution_count": 20,
     "metadata": {},
     "output_type": "execute_result"
    }
   ],
   "source": [
    "s"
   ]
  },
  {
   "cell_type": "code",
   "execution_count": 26,
   "id": "065b6267",
   "metadata": {},
   "outputs": [],
   "source": [
    "dicionario = {'linha' + str(i) : i + 1 for i in range(5)}"
   ]
  },
  {
   "cell_type": "code",
   "execution_count": 28,
   "id": "3f615a08",
   "metadata": {},
   "outputs": [],
   "source": [
    "#dicionario \n",
    "#Out {'linha0': 1, 'linha1': 2, 'linha2': 3, 'linha3': 4, 'linha4': 5}\n"
   ]
  },
  {
   "cell_type": "code",
   "execution_count": 31,
   "id": "8b9eb067",
   "metadata": {},
   "outputs": [],
   "source": [
    "s1 = s + 1"
   ]
  },
  {
   "cell_type": "code",
   "execution_count": 32,
   "id": "e50f73d8",
   "metadata": {},
   "outputs": [
    {
     "data": {
      "text/plain": [
       "linha1     3\n",
       "linha2     5\n",
       "linha3     7\n",
       "linha4     9\n",
       "linha5    11\n",
       "dtype: int64"
      ]
     },
     "execution_count": 32,
     "metadata": {},
     "output_type": "execute_result"
    }
   ],
   "source": [
    "s1 + s "
   ]
  },
  {
   "cell_type": "markdown",
   "id": "c478852d",
   "metadata": {},
   "source": [
    "# DataFrame "
   ]
  },
  {
   "cell_type": "code",
   "execution_count": null,
   "id": "f6701e40",
   "metadata": {},
   "outputs": [],
   "source": []
  }
 ],
 "metadata": {
  "kernelspec": {
   "display_name": "Python 3 (ipykernel)",
   "language": "python",
   "name": "python3"
  },
  "language_info": {
   "codemirror_mode": {
    "name": "ipython",
    "version": 3
   },
   "file_extension": ".py",
   "mimetype": "text/x-python",
   "name": "python",
   "nbconvert_exporter": "python",
   "pygments_lexer": "ipython3",
   "version": "3.9.7"
  }
 },
 "nbformat": 4,
 "nbformat_minor": 5
}
