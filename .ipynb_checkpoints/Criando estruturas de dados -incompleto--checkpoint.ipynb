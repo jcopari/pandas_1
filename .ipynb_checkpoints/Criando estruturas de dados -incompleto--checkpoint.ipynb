{
 "cells": [
  {
   "cell_type": "markdown",
   "id": "f1ba8252",
   "metadata": {},
   "source": [
    "## Series "
   ]
  },
  {
   "cell_type": "code",
   "execution_count": 1,
   "id": "b4d5f903",
   "metadata": {},
   "outputs": [],
   "source": [
    "import pandas as pd"
   ]
  },
  {
   "cell_type": "code",
   "execution_count": 3,
   "id": "61f356eb",
   "metadata": {},
   "outputs": [],
   "source": [
    "dados = [1,2,3,4,5]"
   ]
  },
  {
   "cell_type": "code",
   "execution_count": 4,
   "id": "10abba05",
   "metadata": {},
   "outputs": [],
   "source": [
    "s = pd.Series(dados)"
   ]
  },
  {
   "cell_type": "code",
   "execution_count": 16,
   "id": "38e323b0",
   "metadata": {},
   "outputs": [],
   "source": [
    "lista = ['linha' + str(i) for i in range(1,6)]"
   ]
  },
  {
   "cell_type": "code",
   "execution_count": 17,
   "id": "21f5d319",
   "metadata": {},
   "outputs": [
    {
     "data": {
      "text/plain": [
       "['linha1', 'linha2', 'linha3', 'linha4', 'linha5']"
      ]
     },
     "execution_count": 17,
     "metadata": {},
     "output_type": "execute_result"
    }
   ],
   "source": [
    "lista"
   ]
  },
  {
   "cell_type": "code",
   "execution_count": 19,
   "id": "6088a8a6",
   "metadata": {},
   "outputs": [],
   "source": [
    "s = pd.Series(data = dados, index = lista)"
   ]
  },
  {
   "cell_type": "code",
   "execution_count": null,
   "id": "3217f7da",
   "metadata": {},
   "outputs": [],
   "source": []
  }
 ],
 "metadata": {
  "kernelspec": {
   "display_name": "Python 3 (ipykernel)",
   "language": "python",
   "name": "python3"
  },
  "language_info": {
   "codemirror_mode": {
    "name": "ipython",
    "version": 3
   },
   "file_extension": ".py",
   "mimetype": "text/x-python",
   "name": "python",
   "nbconvert_exporter": "python",
   "pygments_lexer": "ipython3",
   "version": "3.9.7"
  }
 },
 "nbformat": 4,
 "nbformat_minor": 5
}
